{
  "metadata": {
    "kernelspec": {
      "language": "python",
      "display_name": "Python 3",
      "name": "python3"
    },
    "language_info": {
      "name": "python",
      "version": "3.10.12",
      "mimetype": "text/x-python",
      "codemirror_mode": {
        "name": "ipython",
        "version": 3
      },
      "pygments_lexer": "ipython3",
      "nbconvert_exporter": "python",
      "file_extension": ".py"
    },
    "kaggle": {
      "accelerator": "none",
      "dataSources": [
        {
          "sourceId": 3316532,
          "sourceType": "datasetVersion",
          "datasetId": 10100
        }
      ],
      "dockerImageVersionId": 30918,
      "isInternetEnabled": true,
      "language": "python",
      "sourceType": "notebook",
      "isGpuEnabled": false
    },
    "colab": {
      "provenance": [],
      "include_colab_link": true
    }
  },
  "nbformat_minor": 0,
  "nbformat": 4,
  "cells": [
    {
      "cell_type": "markdown",
      "metadata": {
        "id": "view-in-github",
        "colab_type": "text"
      },
      "source": [
        "<a href=\"https://colab.research.google.com/github/Ziadnasser1/Deep-Learning-Training/blob/main/fasttext_yelpdatset.ipynb\" target=\"_parent\"><img src=\"https://colab.research.google.com/assets/colab-badge.svg\" alt=\"Open In Colab\"/></a>"
      ]
    },
    {
      "cell_type": "markdown",
      "source": [
        "# Loading Yelp Dataset."
      ],
      "metadata": {
        "id": "sIUUcRV-cdP8"
      }
    },
    {
      "cell_type": "code",
      "source": [
        "import pandas as pd\n",
        "import json\n",
        "\n",
        "path = \"/kaggle/input/yelp-dataset/yelp_academic_dataset_tip.json\"\n",
        "\n",
        "data = []\n",
        "with open(path, 'r') as file:\n",
        "    for line in file:\n",
        "        data.append(json.loads(line))\n",
        "\n",
        "df = pd.DataFrame(data)\n",
        "\n",
        "print(df.info())\n",
        "df.head()\n"
      ],
      "metadata": {
        "_uuid": "8f2839f25d086af736a60e9eeb907d3b93b6e0e5",
        "_cell_guid": "b1076dfc-b9ad-4769-8c92-a6c4dae69d19",
        "trusted": true,
        "execution": {
          "iopub.status.busy": "2025-04-02T02:08:11.633261Z",
          "iopub.execute_input": "2025-04-02T02:08:11.633649Z",
          "iopub.status.idle": "2025-04-02T02:08:17.501066Z",
          "shell.execute_reply.started": "2025-04-02T02:08:11.633619Z",
          "shell.execute_reply": "2025-04-02T02:08:17.499914Z"
        },
        "id": "P84bJO7lcdP_",
        "outputId": "6b4f1b86-cdf4-4205-cfc9-f92b6fb49ea8"
      },
      "outputs": [
        {
          "name": "stdout",
          "text": "<class 'pandas.core.frame.DataFrame'>\nRangeIndex: 908915 entries, 0 to 908914\nData columns (total 5 columns):\n #   Column            Non-Null Count   Dtype \n---  ------            --------------   ----- \n 0   user_id           908915 non-null  object\n 1   business_id       908915 non-null  object\n 2   text              908915 non-null  object\n 3   date              908915 non-null  object\n 4   compliment_count  908915 non-null  int64 \ndtypes: int64(1), object(4)\nmemory usage: 34.7+ MB\nNone\n",
          "output_type": "stream"
        },
        {
          "execution_count": 10,
          "output_type": "execute_result",
          "data": {
            "text/plain": "                  user_id             business_id  \\\n0  AGNUgVwnZUey3gcPCJ76iw  3uLgwr0qeCNMjKenHJwPGQ   \n1  NBN4MgHP9D3cw--SnauTkA  QoezRbYQncpRqyrLH6Iqjg   \n2  -copOvldyKh1qr-vzkDEvw  MYoRNLb5chwjQe3c_k37Gg   \n3  FjMQVZjSqY8syIO-53KFKw  hV-bABTK-glh5wj31ps_Jw   \n4  ld0AperBXk1h6UbqmM80zw  _uN0OudeJ3Zl_tf6nxg5ww   \n\n                                                text                 date  \\\n0                     Avengers time with the ladies.  2012-05-18 02:17:21   \n1  They have lots of good deserts and tasty cuban...  2013-02-05 18:35:10   \n2             It's open even when you think it isn't  2013-08-18 00:56:08   \n3                          Very decent fried chicken  2017-06-27 23:05:38   \n4             Appetizers.. platter special for lunch  2012-10-06 19:43:09   \n\n   compliment_count  \n0                 0  \n1                 0  \n2                 0  \n3                 0  \n4                 0  ",
            "text/html": "<div>\n<style scoped>\n    .dataframe tbody tr th:only-of-type {\n        vertical-align: middle;\n    }\n\n    .dataframe tbody tr th {\n        vertical-align: top;\n    }\n\n    .dataframe thead th {\n        text-align: right;\n    }\n</style>\n<table border=\"1\" class=\"dataframe\">\n  <thead>\n    <tr style=\"text-align: right;\">\n      <th></th>\n      <th>user_id</th>\n      <th>business_id</th>\n      <th>text</th>\n      <th>date</th>\n      <th>compliment_count</th>\n    </tr>\n  </thead>\n  <tbody>\n    <tr>\n      <th>0</th>\n      <td>AGNUgVwnZUey3gcPCJ76iw</td>\n      <td>3uLgwr0qeCNMjKenHJwPGQ</td>\n      <td>Avengers time with the ladies.</td>\n      <td>2012-05-18 02:17:21</td>\n      <td>0</td>\n    </tr>\n    <tr>\n      <th>1</th>\n      <td>NBN4MgHP9D3cw--SnauTkA</td>\n      <td>QoezRbYQncpRqyrLH6Iqjg</td>\n      <td>They have lots of good deserts and tasty cuban...</td>\n      <td>2013-02-05 18:35:10</td>\n      <td>0</td>\n    </tr>\n    <tr>\n      <th>2</th>\n      <td>-copOvldyKh1qr-vzkDEvw</td>\n      <td>MYoRNLb5chwjQe3c_k37Gg</td>\n      <td>It's open even when you think it isn't</td>\n      <td>2013-08-18 00:56:08</td>\n      <td>0</td>\n    </tr>\n    <tr>\n      <th>3</th>\n      <td>FjMQVZjSqY8syIO-53KFKw</td>\n      <td>hV-bABTK-glh5wj31ps_Jw</td>\n      <td>Very decent fried chicken</td>\n      <td>2017-06-27 23:05:38</td>\n      <td>0</td>\n    </tr>\n    <tr>\n      <th>4</th>\n      <td>ld0AperBXk1h6UbqmM80zw</td>\n      <td>_uN0OudeJ3Zl_tf6nxg5ww</td>\n      <td>Appetizers.. platter special for lunch</td>\n      <td>2012-10-06 19:43:09</td>\n      <td>0</td>\n    </tr>\n  </tbody>\n</table>\n</div>"
          },
          "metadata": {}
        }
      ],
      "execution_count": null
    },
    {
      "cell_type": "markdown",
      "source": [
        "# Extracting Test column to work on it."
      ],
      "metadata": {
        "id": "UM2KMomLcdQD"
      }
    },
    {
      "cell_type": "code",
      "source": [
        "dataset=df['text']\n",
        "dataset.head()"
      ],
      "metadata": {
        "trusted": true,
        "execution": {
          "iopub.status.busy": "2025-04-02T02:08:17.502538Z",
          "iopub.execute_input": "2025-04-02T02:08:17.503056Z",
          "iopub.status.idle": "2025-04-02T02:08:17.510936Z",
          "shell.execute_reply.started": "2025-04-02T02:08:17.503010Z",
          "shell.execute_reply": "2025-04-02T02:08:17.509751Z"
        },
        "id": "9fK36AWscdQD",
        "outputId": "8250cd5a-0e4b-4a8c-f8f7-281439ec1a2c"
      },
      "outputs": [
        {
          "execution_count": 11,
          "output_type": "execute_result",
          "data": {
            "text/plain": "0                       Avengers time with the ladies.\n1    They have lots of good deserts and tasty cuban...\n2               It's open even when you think it isn't\n3                            Very decent fried chicken\n4               Appetizers.. platter special for lunch\nName: text, dtype: object"
          },
          "metadata": {}
        }
      ],
      "execution_count": null
    },
    {
      "cell_type": "markdown",
      "source": [
        "# Preprocessing the text to work with."
      ],
      "metadata": {
        "id": "KhprSY2OcdQE"
      }
    },
    {
      "cell_type": "code",
      "source": [
        "import re\n",
        "import nltk\n",
        "from nltk.corpus import stopwords\n",
        "from nltk.tokenize import word_tokenize\n",
        "from nltk.stem import WordNetLemmatizer"
      ],
      "metadata": {
        "trusted": true,
        "execution": {
          "iopub.status.busy": "2025-04-02T02:08:17.512920Z",
          "iopub.execute_input": "2025-04-02T02:08:17.513314Z",
          "iopub.status.idle": "2025-04-02T02:08:18.496069Z",
          "shell.execute_reply.started": "2025-04-02T02:08:17.513281Z",
          "shell.execute_reply": "2025-04-02T02:08:18.494825Z"
        },
        "id": "3o5zrSYScdQE"
      },
      "outputs": [],
      "execution_count": null
    },
    {
      "cell_type": "code",
      "source": [
        "nltk.download('stopwords')\n",
        "nltk.download('punkt')\n",
        "nltk.download('wordnet')\n",
        "nltk.download('omw-1.4')\n"
      ],
      "metadata": {
        "trusted": true,
        "execution": {
          "iopub.status.busy": "2025-04-01T20:31:25.625800Z",
          "iopub.execute_input": "2025-04-01T20:31:25.626109Z",
          "iopub.status.idle": "2025-04-01T20:31:26.638389Z",
          "shell.execute_reply.started": "2025-04-01T20:31:25.626085Z",
          "shell.execute_reply": "2025-04-01T20:31:26.637511Z"
        },
        "id": "DZKTWdGmcdQF",
        "outputId": "a444d5f9-e207-4c17-dc3b-bb5407722157"
      },
      "outputs": [
        {
          "name": "stdout",
          "text": "[nltk_data] Downloading package stopwords to /usr/share/nltk_data...\n[nltk_data]   Package stopwords is already up-to-date!\n[nltk_data] Downloading package punkt to /usr/share/nltk_data...\n[nltk_data]   Package punkt is already up-to-date!\n[nltk_data] Downloading package wordnet to /usr/share/nltk_data...\n[nltk_data]   Package wordnet is already up-to-date!\n[nltk_data] Downloading package omw-1.4 to /usr/share/nltk_data...\n",
          "output_type": "stream"
        },
        {
          "execution_count": 10,
          "output_type": "execute_result",
          "data": {
            "text/plain": "True"
          },
          "metadata": {}
        }
      ],
      "execution_count": null
    },
    {
      "cell_type": "code",
      "source": [
        "!unzip /usr/share/nltk_data/corpora/wordnet.zip -d /usr/share/nltk_data/corpora/"
      ],
      "metadata": {
        "trusted": true,
        "execution": {
          "iopub.status.busy": "2025-04-02T01:35:34.219219Z",
          "iopub.execute_input": "2025-04-02T01:35:34.219577Z",
          "iopub.status.idle": "2025-04-02T01:35:34.866140Z",
          "shell.execute_reply.started": "2025-04-02T01:35:34.219551Z",
          "shell.execute_reply": "2025-04-02T01:35:34.864658Z"
        },
        "id": "7hDXZd_5cdQF",
        "outputId": "35e7325f-3186-4ec0-c00f-d192b82f7eaf"
      },
      "outputs": [
        {
          "name": "stdout",
          "text": "Archive:  /usr/share/nltk_data/corpora/wordnet.zip\n   creating: /usr/share/nltk_data/corpora/wordnet/\n  inflating: /usr/share/nltk_data/corpora/wordnet/lexnames  \n  inflating: /usr/share/nltk_data/corpora/wordnet/data.verb  \n  inflating: /usr/share/nltk_data/corpora/wordnet/index.adv  \n  inflating: /usr/share/nltk_data/corpora/wordnet/adv.exc  \n  inflating: /usr/share/nltk_data/corpora/wordnet/index.verb  \n  inflating: /usr/share/nltk_data/corpora/wordnet/cntlist.rev  \n  inflating: /usr/share/nltk_data/corpora/wordnet/data.adj  \n  inflating: /usr/share/nltk_data/corpora/wordnet/index.adj  \n  inflating: /usr/share/nltk_data/corpora/wordnet/LICENSE  \n  inflating: /usr/share/nltk_data/corpora/wordnet/citation.bib  \n  inflating: /usr/share/nltk_data/corpora/wordnet/noun.exc  \n  inflating: /usr/share/nltk_data/corpora/wordnet/verb.exc  \n  inflating: /usr/share/nltk_data/corpora/wordnet/README  \n  inflating: /usr/share/nltk_data/corpora/wordnet/index.sense  \n  inflating: /usr/share/nltk_data/corpora/wordnet/data.noun  \n  inflating: /usr/share/nltk_data/corpora/wordnet/data.adv  \n  inflating: /usr/share/nltk_data/corpora/wordnet/index.noun  \n  inflating: /usr/share/nltk_data/corpora/wordnet/adj.exc  \n",
          "output_type": "stream"
        }
      ],
      "execution_count": null
    },
    {
      "cell_type": "code",
      "source": [
        "def process_text(document):\n",
        "    document = document.lower()  # Convert text to lowercase\n",
        "    document = re.sub(r'\\s+', ' ', document)  # Remove extra white spaces\n",
        "    document = re.sub(r'\\W', ' ', document)  # Remove special characters\n",
        "    document = re.sub(r'\\d+', '', document)  # Remove numbers\n",
        "    document = re.sub(r'\\b[a-zA-Z]\\b', '', document)  # Remove single characters\n",
        "\n",
        "    tokens = word_tokenize(document)  # Tokenize words\n",
        "    tokens = [word for word in tokens if word not in stopwords.words('english')]  # Remove stopwords\n",
        "\n",
        "    lemmatizer = WordNetLemmatizer()\n",
        "    tokens = [lemmatizer.lemmatize(word) for word in tokens]  # Lemmatize words\n",
        "\n",
        "    return tokens"
      ],
      "metadata": {
        "trusted": true,
        "execution": {
          "iopub.status.busy": "2025-04-02T02:08:20.746187Z",
          "iopub.execute_input": "2025-04-02T02:08:20.746595Z",
          "iopub.status.idle": "2025-04-02T02:08:20.753529Z",
          "shell.execute_reply.started": "2025-04-02T02:08:20.746559Z",
          "shell.execute_reply": "2025-04-02T02:08:20.752073Z"
        },
        "id": "uxLEWG7scdQG"
      },
      "outputs": [],
      "execution_count": null
    },
    {
      "cell_type": "code",
      "source": [
        "df['cleaned_text'] = df['text'].apply(process_text)\n",
        "df[['text', 'cleaned_text']].head()"
      ],
      "metadata": {
        "trusted": true,
        "execution": {
          "iopub.status.busy": "2025-04-02T02:08:27.472302Z",
          "iopub.execute_input": "2025-04-02T02:08:27.472753Z",
          "iopub.status.idle": "2025-04-02T02:31:30.855876Z",
          "shell.execute_reply.started": "2025-04-02T02:08:27.472713Z",
          "shell.execute_reply": "2025-04-02T02:31:30.854730Z"
        },
        "id": "Pi8cMJ-FcdQG",
        "outputId": "671dfe35-3b20-4287-8cb5-6becb43772c5"
      },
      "outputs": [
        {
          "execution_count": 14,
          "output_type": "execute_result",
          "data": {
            "text/plain": "                                                text  \\\n0                     Avengers time with the ladies.   \n1  They have lots of good deserts and tasty cuban...   \n2             It's open even when you think it isn't   \n3                          Very decent fried chicken   \n4             Appetizers.. platter special for lunch   \n\n                                  cleaned_text  \n0                        [avenger, time, lady]  \n1  [lot, good, desert, tasty, cuban, sandwich]  \n2                          [open, even, think]  \n3                     [decent, fried, chicken]  \n4         [appetizer, platter, special, lunch]  ",
            "text/html": "<div>\n<style scoped>\n    .dataframe tbody tr th:only-of-type {\n        vertical-align: middle;\n    }\n\n    .dataframe tbody tr th {\n        vertical-align: top;\n    }\n\n    .dataframe thead th {\n        text-align: right;\n    }\n</style>\n<table border=\"1\" class=\"dataframe\">\n  <thead>\n    <tr style=\"text-align: right;\">\n      <th></th>\n      <th>text</th>\n      <th>cleaned_text</th>\n    </tr>\n  </thead>\n  <tbody>\n    <tr>\n      <th>0</th>\n      <td>Avengers time with the ladies.</td>\n      <td>[avenger, time, lady]</td>\n    </tr>\n    <tr>\n      <th>1</th>\n      <td>They have lots of good deserts and tasty cuban...</td>\n      <td>[lot, good, desert, tasty, cuban, sandwich]</td>\n    </tr>\n    <tr>\n      <th>2</th>\n      <td>It's open even when you think it isn't</td>\n      <td>[open, even, think]</td>\n    </tr>\n    <tr>\n      <th>3</th>\n      <td>Very decent fried chicken</td>\n      <td>[decent, fried, chicken]</td>\n    </tr>\n    <tr>\n      <th>4</th>\n      <td>Appetizers.. platter special for lunch</td>\n      <td>[appetizer, platter, special, lunch]</td>\n    </tr>\n  </tbody>\n</table>\n</div>"
          },
          "metadata": {}
        }
      ],
      "execution_count": null
    },
    {
      "cell_type": "markdown",
      "source": [
        "# Loading FastText model and training it"
      ],
      "metadata": {
        "id": "KwtJn8s1cdQH"
      }
    },
    {
      "cell_type": "code",
      "source": [
        "!pip install gensim\n",
        "import gensim\n",
        "from gensim.models import FastText"
      ],
      "metadata": {
        "trusted": true,
        "execution": {
          "iopub.status.busy": "2025-04-01T21:00:09.620194Z",
          "iopub.execute_input": "2025-04-01T21:00:09.620633Z",
          "iopub.status.idle": "2025-04-01T21:00:33.320128Z",
          "shell.execute_reply.started": "2025-04-01T21:00:09.620602Z",
          "shell.execute_reply": "2025-04-01T21:00:33.319040Z"
        },
        "id": "ax33RpAecdQI",
        "outputId": "6bd73698-f3ef-458e-b309-8ef3ca4264a3"
      },
      "outputs": [
        {
          "name": "stdout",
          "text": "Requirement already satisfied: gensim in /usr/local/lib/python3.10/dist-packages (4.3.3)\nRequirement already satisfied: numpy<2.0,>=1.18.5 in /usr/local/lib/python3.10/dist-packages (from gensim) (1.26.4)\nRequirement already satisfied: scipy<1.14.0,>=1.7.0 in /usr/local/lib/python3.10/dist-packages (from gensim) (1.13.1)\nRequirement already satisfied: smart-open>=1.8.1 in /usr/local/lib/python3.10/dist-packages (from gensim) (7.0.5)\nRequirement already satisfied: mkl_fft in /usr/local/lib/python3.10/dist-packages (from numpy<2.0,>=1.18.5->gensim) (1.3.8)\nRequirement already satisfied: mkl_random in /usr/local/lib/python3.10/dist-packages (from numpy<2.0,>=1.18.5->gensim) (1.2.4)\nRequirement already satisfied: mkl_umath in /usr/local/lib/python3.10/dist-packages (from numpy<2.0,>=1.18.5->gensim) (0.1.1)\nRequirement already satisfied: mkl in /usr/local/lib/python3.10/dist-packages (from numpy<2.0,>=1.18.5->gensim) (2025.0.1)\nRequirement already satisfied: tbb4py in /usr/local/lib/python3.10/dist-packages (from numpy<2.0,>=1.18.5->gensim) (2022.0.0)\nRequirement already satisfied: mkl-service in /usr/local/lib/python3.10/dist-packages (from numpy<2.0,>=1.18.5->gensim) (2.4.1)\nRequirement already satisfied: wrapt in /usr/local/lib/python3.10/dist-packages (from smart-open>=1.8.1->gensim) (1.17.0)\nRequirement already satisfied: intel-openmp>=2024 in /usr/local/lib/python3.10/dist-packages (from mkl->numpy<2.0,>=1.18.5->gensim) (2024.2.0)\nRequirement already satisfied: tbb==2022.* in /usr/local/lib/python3.10/dist-packages (from mkl->numpy<2.0,>=1.18.5->gensim) (2022.0.0)\nRequirement already satisfied: tcmlib==1.* in /usr/local/lib/python3.10/dist-packages (from tbb==2022.*->mkl->numpy<2.0,>=1.18.5->gensim) (1.2.0)\nRequirement already satisfied: intel-cmplr-lib-rt in /usr/local/lib/python3.10/dist-packages (from mkl_umath->numpy<2.0,>=1.18.5->gensim) (2024.2.0)\nRequirement already satisfied: intel-cmplr-lib-ur==2024.2.0 in /usr/local/lib/python3.10/dist-packages (from intel-openmp>=2024->mkl->numpy<2.0,>=1.18.5->gensim) (2024.2.0)\n",
          "output_type": "stream"
        }
      ],
      "execution_count": null
    },
    {
      "cell_type": "code",
      "source": [
        "tokenized_texts = df['cleaned_text']"
      ],
      "metadata": {
        "trusted": true,
        "execution": {
          "iopub.status.busy": "2025-04-02T02:36:32.297877Z",
          "iopub.execute_input": "2025-04-02T02:36:32.298308Z",
          "iopub.status.idle": "2025-04-02T02:36:32.303270Z",
          "shell.execute_reply.started": "2025-04-02T02:36:32.298263Z",
          "shell.execute_reply": "2025-04-02T02:36:32.302039Z"
        },
        "id": "4zbKEULGcdQI"
      },
      "outputs": [],
      "execution_count": null
    },
    {
      "cell_type": "code",
      "source": [
        "tokenized_texts[:5]"
      ],
      "metadata": {
        "trusted": true,
        "execution": {
          "iopub.status.busy": "2025-04-02T02:36:49.631564Z",
          "iopub.execute_input": "2025-04-02T02:36:49.632033Z",
          "iopub.status.idle": "2025-04-02T02:36:49.640708Z",
          "shell.execute_reply.started": "2025-04-02T02:36:49.631979Z",
          "shell.execute_reply": "2025-04-02T02:36:49.639500Z"
        },
        "id": "7_nnPNa1cdQJ",
        "outputId": "973329e9-e9da-40f3-9769-930ef85941fc"
      },
      "outputs": [
        {
          "execution_count": 18,
          "output_type": "execute_result",
          "data": {
            "text/plain": "0                          [avenger, time, lady]\n1    [lot, good, desert, tasty, cuban, sandwich]\n2                            [open, even, think]\n3                       [decent, fried, chicken]\n4           [appetizer, platter, special, lunch]\nName: cleaned_text, dtype: object"
          },
          "metadata": {}
        }
      ],
      "execution_count": null
    },
    {
      "cell_type": "code",
      "source": [
        "!pip install tqdm\n",
        "from tqdm import tqdm\n"
      ],
      "metadata": {
        "trusted": true,
        "execution": {
          "iopub.status.busy": "2025-04-01T21:27:43.240035Z",
          "iopub.execute_input": "2025-04-01T21:27:43.240445Z",
          "iopub.status.idle": "2025-04-01T21:27:47.519050Z",
          "shell.execute_reply.started": "2025-04-01T21:27:43.240417Z",
          "shell.execute_reply": "2025-04-01T21:27:47.517772Z"
        },
        "id": "XvSBtc7scdQJ",
        "outputId": "e0b5e4cc-98ed-44b0-b5fb-60de977ddb2d"
      },
      "outputs": [
        {
          "name": "stdout",
          "text": "Requirement already satisfied: tqdm in /usr/local/lib/python3.10/dist-packages (4.67.1)\n",
          "output_type": "stream"
        }
      ],
      "execution_count": null
    },
    {
      "cell_type": "code",
      "source": [
        "from gensim.models import FastText\n",
        "from tqdm.notebook import tqdm  # For progress bar in Kaggle notebooks\n",
        "\n",
        "# Number of epochs\n",
        "epochs = 5\n",
        "# Initialize the tqdm progress bar for epochs\n",
        "epoch_progress = tqdm(range(epochs), desc=\"Epochs Progress\", position=0, leave=True)\n",
        "\n",
        "# Initialize the FastText model with the given parameters\n",
        "fasttext_model = FastText(\n",
        "    vector_size=300,\n",
        "    window=5,\n",
        "    sample=1e-2,\n",
        "    min_count=5,\n",
        "    workers=4,\n",
        "    sg=1,\n",
        "    epochs=1\n",
        ")\n",
        "\n",
        "# Build the vocabulary once\n",
        "fasttext_model.build_vocab(corpus_iterable=tokenized_texts)\n",
        "\n",
        "\n",
        "# Training process with progress bar for each epoch\n",
        "for epoch in epoch_progress:\n",
        "    # Train for 1 epoch\n",
        "    fasttext_model.train(\n",
        "        corpus_iterable=tokenized_texts,  # This is the training corpus\n",
        "        total_examples=len(tokenized_texts),\n",
        "        epochs=1\n",
        "    )\n",
        "\n",
        "    # Update the tqdm progress bar\n",
        "    epoch_progress.set_postfix(epoch=epoch + 1)\n",
        "\n",
        "# Optionally save the trained model\n",
        "fasttext_model.save(\"/kaggle/working/fasttext_model\")\n"
      ],
      "metadata": {
        "trusted": true,
        "execution": {
          "iopub.status.busy": "2025-04-01T22:18:16.062896Z",
          "iopub.execute_input": "2025-04-01T22:18:16.063308Z",
          "iopub.status.idle": "2025-04-01T22:22:13.982945Z",
          "shell.execute_reply.started": "2025-04-01T22:18:16.063267Z",
          "shell.execute_reply": "2025-04-01T22:22:13.981787Z"
        },
        "id": "dL8lBI4XcdQK",
        "outputId": "4e070eec-1576-4b92-eeed-d1783d1646c8",
        "colab": {
          "referenced_widgets": [
            "69497d35c54344aea82a4b7e987172e6"
          ]
        }
      },
      "outputs": [
        {
          "output_type": "display_data",
          "data": {
            "text/plain": "Epochs Progress:   0%|          | 0/5 [00:00<?, ?it/s]",
            "application/vnd.jupyter.widget-view+json": {
              "version_major": 2,
              "version_minor": 0,
              "model_id": "69497d35c54344aea82a4b7e987172e6"
            }
          },
          "metadata": {}
        }
      ],
      "execution_count": null
    },
    {
      "cell_type": "markdown",
      "source": [
        "# Testing the model"
      ],
      "metadata": {
        "id": "dSSCdUN2cdQK"
      }
    },
    {
      "cell_type": "code",
      "source": [
        "test_word = \"happy\"\n",
        "\n",
        "# Get 10 similar words to the test word\n",
        "similar_words = fasttext_model.wv.similar_by_word(test_word, topn=10)\n",
        "print(f\"10 Similar Words to '{test_word}':\")\n",
        "for word, similarity in similar_words:\n",
        "    print(f\"{word}: {similarity}\")"
      ],
      "metadata": {
        "trusted": true,
        "execution": {
          "iopub.status.busy": "2025-04-01T23:06:18.734850Z",
          "iopub.execute_input": "2025-04-01T23:06:18.736462Z",
          "iopub.status.idle": "2025-04-01T23:06:18.768318Z",
          "shell.execute_reply.started": "2025-04-01T23:06:18.736317Z",
          "shell.execute_reply": "2025-04-01T23:06:18.764363Z"
        },
        "id": "K3TKJ0dZcdQL",
        "outputId": "dec41e9c-f02b-4457-947d-ad2c899d780b"
      },
      "outputs": [
        {
          "name": "stdout",
          "text": "10 Similar Words to 'happy':\nhappyhour: 0.7068834900856018\nyappy: 0.6964982748031616\nhapp: 0.6833152174949646\nappy: 0.6797153353691101\ntappy: 0.6184215545654297\nnappy: 0.6050929427146912\nhappier: 0.597939133644104\nunhappy: 0.5932546854019165\nhap: 0.5879569053649902\nsnappy: 0.5799431800842285\n",
          "output_type": "stream"
        }
      ],
      "execution_count": null
    },
    {
      "cell_type": "code",
      "source": [
        "# Get 10 opposite words (workaround)\n",
        "# We will reverse the vector of the word and find the most dissimilar words\n",
        "# This can be done by querying the most dissimilar words, assuming the vector is the opposite.\n",
        "# opposite_words = fasttext_model.wv.most_similar(positive=[test_word], topn=10, negative=[\"bad\"])\n",
        "# print(f\"\\n10 Opposite Words to '{test_word}':\")\n",
        "# for word, similarity in opposite_words:\n",
        "#     print(f\"{word}: {similarity}\")\n",
        "\n",
        "def print_opposite_words(test_word):\n",
        "    all_words = list(fasttext_model.wv.index_to_key)\n",
        "\n",
        "    similarities = [(word, fasttext_model.wv.similarity(test_word, word)) for word in all_words if word != test_word]\n",
        "\n",
        "    negative_results = sorted(similarities, key=lambda x: x[1])[:10]\n",
        "    print(\"\\nTop 10 opposite words:\")\n",
        "    for word, score in negative_results:\n",
        "        print(f\"{word}: {score:.4f}\")\n",
        "print_opposite_words(test_word)"
      ],
      "metadata": {
        "trusted": true,
        "execution": {
          "iopub.status.busy": "2025-04-01T23:06:21.802172Z",
          "iopub.execute_input": "2025-04-01T23:06:21.802586Z",
          "iopub.status.idle": "2025-04-01T23:06:22.168445Z",
          "shell.execute_reply.started": "2025-04-01T23:06:21.802552Z",
          "shell.execute_reply": "2025-04-01T23:06:22.167311Z"
        },
        "id": "8ZHs9jvvcdQL",
        "outputId": "48ef9087-6d2d-4d3c-d6e3-aa5cfc4f1e43"
      },
      "outputs": [
        {
          "name": "stdout",
          "text": "\nTop 10 opposite words:\namp: -0.0139\node: 0.0155\nlink: 0.0219\nproceed: 0.0243\nchannel: 0.0293\npaper: 0.0307\nutter: 0.0324\nink: 0.0333\nkiosk: 0.0343\ngh: 0.0348\n",
          "output_type": "stream"
        }
      ],
      "execution_count": null
    },
    {
      "cell_type": "code",
      "source": [
        "result = fasttext_model.wv['king'] + fasttext_model.wv['woman'] - fasttext_model.wv['man']\n",
        "\n",
        "from scipy.spatial.distance import cosine\n",
        "\n",
        "similarity = 1 - cosine(result , fasttext_model.wv['queen'])\n",
        "print(f\"Similarity('King + Woman - Man', queen): {similarity:.4f}\")"
      ],
      "metadata": {
        "trusted": true,
        "execution": {
          "iopub.status.busy": "2025-04-01T23:10:27.534723Z",
          "iopub.execute_input": "2025-04-01T23:10:27.535172Z",
          "iopub.status.idle": "2025-04-01T23:10:27.542755Z",
          "shell.execute_reply.started": "2025-04-01T23:10:27.535139Z",
          "shell.execute_reply": "2025-04-01T23:10:27.541598Z"
        },
        "id": "L7J6-MICcdQN",
        "outputId": "1d0c24d5-f1f9-44f3-c35a-ab82deb9b15b"
      },
      "outputs": [
        {
          "name": "stdout",
          "text": "Similarity('King + Woman - Man', queen): 0.4360\n",
          "output_type": "stream"
        }
      ],
      "execution_count": null
    },
    {
      "cell_type": "markdown",
      "source": [
        "# Testing Pretraind Model."
      ],
      "metadata": {
        "id": "h3u3cJk3cdQO"
      }
    },
    {
      "cell_type": "code",
      "source": [
        "!wget -O cc.en.300.bin.gz https://dl.fbaipublicfiles.com/fasttext/vectors-crawl/cc.en.300.bin.gz\n"
      ],
      "metadata": {
        "trusted": true,
        "execution": {
          "iopub.status.busy": "2025-04-02T01:58:22.753082Z",
          "iopub.execute_input": "2025-04-02T01:58:22.753498Z",
          "iopub.status.idle": "2025-04-02T01:59:05.041705Z",
          "shell.execute_reply.started": "2025-04-02T01:58:22.753467Z",
          "shell.execute_reply": "2025-04-02T01:59:05.036920Z"
        },
        "id": "0PUE9pfccdQO",
        "outputId": "481baed8-3387-4f49-e01c-cb8f08a9e76f"
      },
      "outputs": [
        {
          "name": "stdout",
          "text": "--2025-04-02 01:58:22--  https://dl.fbaipublicfiles.com/fasttext/vectors-crawl/cc.en.300.bin.gz\nResolving dl.fbaipublicfiles.com (dl.fbaipublicfiles.com)... 13.227.219.10, 13.227.219.59, 13.227.219.70, ...\nConnecting to dl.fbaipublicfiles.com (dl.fbaipublicfiles.com)|13.227.219.10|:443... connected.\nHTTP request sent, awaiting response... 200 OK\nLength: 4503593528 (4.2G) [application/octet-stream]\nSaving to: ‘cc.en.300.bin.gz’\n\ncc.en.300.bin.gz    100%[===================>]   4.19G   128MB/s    in 42s     \n\n2025-04-02 01:59:04 (103 MB/s) - ‘cc.en.300.bin.gz’ saved [4503593528/4503593528]\n\n",
          "output_type": "stream"
        }
      ],
      "execution_count": null
    },
    {
      "cell_type": "code",
      "source": [
        "!gunzip cc.en.300.bin.gz\n"
      ],
      "metadata": {
        "trusted": true,
        "execution": {
          "iopub.status.busy": "2025-04-02T01:59:05.044269Z",
          "iopub.execute_input": "2025-04-02T01:59:05.045387Z",
          "iopub.status.idle": "2025-04-02T01:59:31.485027Z",
          "shell.execute_reply.started": "2025-04-02T01:59:05.045326Z",
          "shell.execute_reply": "2025-04-02T01:59:31.483483Z"
        },
        "id": "AjwjcqBEcdQP",
        "outputId": "afda82c2-c9aa-4f11-efaf-ea28222f7946"
      },
      "outputs": [
        {
          "name": "stdout",
          "text": "gzip: cc.en.300.bin already exists; do you wish to overwrite (y or n)? ^C\n",
          "output_type": "stream"
        }
      ],
      "execution_count": null
    },
    {
      "cell_type": "code",
      "source": [
        "from gensim.models.fasttext import load_facebook_model\n",
        "\n",
        "# Load the pretrained FastText model in Facebook's format\n",
        "pretrained_fasttext_path = \"cc.en.300.bin\"\n",
        "pretrained_model = load_facebook_model(pretrained_fasttext_path)\n",
        "\n",
        "print(\"Pretrained FastText model loaded successfully!\")\n"
      ],
      "metadata": {
        "trusted": true,
        "execution": {
          "iopub.status.busy": "2025-04-02T02:03:34.448336Z",
          "iopub.execute_input": "2025-04-02T02:03:34.448763Z",
          "iopub.status.idle": "2025-04-02T02:05:55.845854Z",
          "shell.execute_reply.started": "2025-04-02T02:03:34.448732Z",
          "shell.execute_reply": "2025-04-02T02:05:55.844599Z"
        },
        "id": "rau5oSGKcdQP",
        "outputId": "13689094-891b-4bd5-d7c7-e5311185df59"
      },
      "outputs": [
        {
          "name": "stdout",
          "text": "Pretrained FastText model loaded successfully!\n",
          "output_type": "stream"
        }
      ],
      "execution_count": null
    },
    {
      "cell_type": "code",
      "source": [
        "test_word = \"happy\"\n",
        "similar_words = pretrained_model.wv.most_similar(test_word, topn=10)\n",
        "\n",
        "print(f\"\\n10 Similar Words to '{test_word}':\")\n",
        "for word, similarity in similar_words:\n",
        "    print(f\"{word}: {similarity}\")"
      ],
      "metadata": {
        "trusted": true,
        "execution": {
          "iopub.status.busy": "2025-04-02T02:06:37.751027Z",
          "iopub.execute_input": "2025-04-02T02:06:37.751782Z",
          "iopub.status.idle": "2025-04-02T02:06:38.773671Z",
          "shell.execute_reply.started": "2025-04-02T02:06:37.751747Z",
          "shell.execute_reply": "2025-04-02T02:06:38.772022Z"
        },
        "id": "mxK43t6_cdQQ",
        "outputId": "17dd0877-dca0-4ccf-a684-e6fa9a219456"
      },
      "outputs": [
        {
          "name": "stdout",
          "text": "\n10 Similar Words to 'happy':\nhapppy: 0.7490981817245483\nhapy: 0.7035642266273499\nhappier: 0.6981650590896606\npleased: 0.697956919670105\nglad: 0.6735867261886597\nsatisfied: 0.6564764380455017\nsuper-happy: 0.6552473902702332\nunhappy: 0.6515626311302185\nthrilled: 0.650614857673645\noverjoyed: 0.6238875985145569\n",
          "output_type": "stream"
        }
      ],
      "execution_count": null
    },
    {
      "cell_type": "code",
      "source": [
        "def print_opposite_words(test_word):\n",
        "    all_words = list(pretrained_model.wv.index_to_key)\n",
        "\n",
        "    similarities = [(word, pretrained_model.wv.similarity(test_word, word)) for word in all_words if word != test_word]\n",
        "\n",
        "    opposite_words = sorted(similarities, key=lambda x: x[1])[:10]\n",
        "\n",
        "    print(f\"\\n10 Opposite Words to '{test_word}':\")\n",
        "    for word, score in opposite_words:\n",
        "        print(f\"{word}: {score:.4f}\")\n",
        "\n",
        "print_opposite_words(test_word)\n"
      ],
      "metadata": {
        "trusted": true,
        "execution": {
          "iopub.status.busy": "2025-04-02T02:06:41.218193Z",
          "iopub.execute_input": "2025-04-02T02:06:41.218577Z",
          "iopub.status.idle": "2025-04-02T02:07:15.150712Z",
          "shell.execute_reply.started": "2025-04-02T02:06:41.218542Z",
          "shell.execute_reply": "2025-04-02T02:07:15.149290Z"
        },
        "id": "S-bIQF_dcdQQ",
        "outputId": "4517805b-4db8-4390-e478-fae990f5cebe"
      },
      "outputs": [
        {
          "name": "stdout",
          "text": "\n10 Opposite Words to 'happy':\nM.e.: -0.2306\nalexanderrados: -0.2287\nLithologic: -0.2222\narea-of-interest: -0.2164\nRFG29PHDWP: -0.2154\nCyberWar: -0.2146\nDefenseC: -0.2064\nClassifications: -0.2059\nSheathing: -0.2055\nMoreUse: -0.2038\n",
          "output_type": "stream"
        }
      ],
      "execution_count": null
    },
    {
      "cell_type": "code",
      "source": [
        "result = pretrained_model.wv['king'] + pretrained_model.wv['woman'] - pretrained_model.wv['man']\n",
        "\n",
        "from scipy.spatial.distance import cosine\n",
        "\n",
        "similarity = 1 - cosine(result , pretrained_model.wv['queen'])\n",
        "print(f\"Similarity('King + Woman - Man', queen): {similarity:.4f}\")"
      ],
      "metadata": {
        "trusted": true,
        "execution": {
          "iopub.status.busy": "2025-04-02T02:07:15.152262Z",
          "iopub.execute_input": "2025-04-02T02:07:15.152639Z",
          "iopub.status.idle": "2025-04-02T02:07:15.159439Z",
          "shell.execute_reply.started": "2025-04-02T02:07:15.152605Z",
          "shell.execute_reply": "2025-04-02T02:07:15.157911Z"
        },
        "id": "Y1Ga9KgccdQQ",
        "outputId": "a5beccab-ad5d-4bcc-c2d0-4587c91f9ec2"
      },
      "outputs": [
        {
          "name": "stdout",
          "text": "Similarity('King + Woman - Man', queen): 0.6543\n",
          "output_type": "stream"
        }
      ],
      "execution_count": null
    },
    {
      "cell_type": "markdown",
      "source": [
        "# Updating Pretrained model with Yelp Dataset."
      ],
      "metadata": {
        "id": "PsfVC6BzcdQR"
      }
    },
    {
      "cell_type": "code",
      "source": [
        "pretrained_model.build_vocab(tokenized_texts, update=True)\n",
        "print(\"Vocabulary updated with Yelp_tip data!\")"
      ],
      "metadata": {
        "trusted": true,
        "execution": {
          "iopub.status.busy": "2025-04-02T02:36:56.480015Z",
          "iopub.execute_input": "2025-04-02T02:36:56.480488Z",
          "iopub.status.idle": "2025-04-02T02:38:36.190582Z",
          "shell.execute_reply.started": "2025-04-02T02:36:56.480453Z",
          "shell.execute_reply": "2025-04-02T02:38:36.189424Z"
        },
        "id": "Hl1vifOUcdQR",
        "outputId": "52f99fd7-00d4-4b11-f5af-2ad4114b21b4"
      },
      "outputs": [
        {
          "name": "stdout",
          "text": "Vocabulary updated with Yelp_tip data!\n",
          "output_type": "stream"
        }
      ],
      "execution_count": null
    },
    {
      "cell_type": "code",
      "source": [
        "from tqdm.notebook import tqdm\n",
        "\n",
        "# Define the number of epochs\n",
        "epochs =5\n",
        "\n",
        "# Initialize tqdm for progress tracking\n",
        "epoch_progress = tqdm(range(epochs), desc=\"Fine-tuning Progress\", position=0, leave=True)\n",
        "\n",
        "# Fine-tune the model\n",
        "for epoch in epoch_progress:\n",
        "    pretrained_model.train(tokenized_texts, total_examples=len(tokenized_texts), epochs=1)"
      ],
      "metadata": {
        "trusted": true,
        "execution": {
          "iopub.status.busy": "2025-04-02T02:38:36.192032Z",
          "iopub.execute_input": "2025-04-02T02:38:36.192458Z",
          "iopub.status.idle": "2025-04-02T02:42:19.258531Z",
          "shell.execute_reply.started": "2025-04-02T02:38:36.192415Z",
          "shell.execute_reply": "2025-04-02T02:42:19.256986Z"
        },
        "id": "znD3KQeJcdQR",
        "outputId": "296fb57b-3245-4988-d205-5a6720030090",
        "colab": {
          "referenced_widgets": [
            "3be7e409fa174216a939d05e3ad546b3"
          ]
        }
      },
      "outputs": [
        {
          "output_type": "display_data",
          "data": {
            "text/plain": "Fine-tuning Progress:   0%|          | 0/5 [00:00<?, ?it/s]",
            "application/vnd.jupyter.widget-view+json": {
              "version_major": 2,
              "version_minor": 0,
              "model_id": "3be7e409fa174216a939d05e3ad546b3"
            }
          },
          "metadata": {}
        }
      ],
      "execution_count": null
    },
    {
      "cell_type": "code",
      "source": [
        "test_word = \"happy\"\n",
        "\n",
        "# Get 10 similar words\n",
        "similar_words = pretrained_model.wv.most_similar(test_word, topn=10)\n",
        "\n",
        "print(f\"\\n10 Similar Words to '{test_word}':\")\n",
        "for word, similarity in similar_words:\n",
        "    print(f\"{word}: {similarity}\")\n"
      ],
      "metadata": {
        "trusted": true,
        "execution": {
          "iopub.status.busy": "2025-04-02T02:42:19.260542Z",
          "iopub.execute_input": "2025-04-02T02:42:19.260946Z",
          "iopub.status.idle": "2025-04-02T02:42:20.267798Z",
          "shell.execute_reply.started": "2025-04-02T02:42:19.260915Z",
          "shell.execute_reply": "2025-04-02T02:42:20.266563Z"
        },
        "id": "DhVf_b2AcdQS",
        "outputId": "5d316c05-4264-4898-8708-91d4e863fbb2"
      },
      "outputs": [
        {
          "name": "stdout",
          "text": "\n10 Similar Words to 'happy':\nhappy-happy: 0.9950555562973022\nhappy.Also: 0.9911419749259949\nhappys: 0.990406334400177\nhappy.A: 0.9901679158210754\nhappy.At: 0.9900670647621155\nhappy--: 0.9899594187736511\nhappy-ish: 0.9899420142173767\nhappy.So: 0.9893172979354858\nhappy.Now: 0.9892703890800476\nhappy.As: 0.9891560673713684\n",
          "output_type": "stream"
        }
      ],
      "execution_count": null
    },
    {
      "cell_type": "code",
      "source": [
        "\n",
        "def print_opposite_words(test_word):\n",
        "    all_words = list(pretrained_model.wv.index_to_key)\n",
        "\n",
        "    similarities = [(word, pretrained_model.wv.similarity(test_word, word)) for word in all_words if word != test_word]\n",
        "\n",
        "    opposite_words = sorted(similarities, key=lambda x: x[1])[:10]\n",
        "\n",
        "    print(f\"\\n10 Opposite Words to '{test_word}':\")\n",
        "    for word, score in opposite_words:\n",
        "        print(f\"{word}: {score:.4f}\")\n",
        "\n",
        "print_opposite_words(test_word)"
      ],
      "metadata": {
        "trusted": true,
        "execution": {
          "iopub.status.busy": "2025-04-02T02:42:20.269014Z",
          "iopub.execute_input": "2025-04-02T02:42:20.269397Z",
          "iopub.status.idle": "2025-04-02T02:42:57.415606Z",
          "shell.execute_reply.started": "2025-04-02T02:42:20.269365Z",
          "shell.execute_reply": "2025-04-02T02:42:57.414429Z"
        },
        "id": "v7NAWiKncdQS",
        "outputId": "e4ca52cf-afd4-4328-91da-9140f2720b9e"
      },
      "outputs": [
        {
          "name": "stdout",
          "text": "\n10 Opposite Words to 'happy':\nEHAC: -0.1376\n.......................................................................................................................................: -0.1248\n.4.4: -0.1244\nTitleTop: -0.1242\n.........................................................................................................................................: -0.1241\n..............................................................................................................................................: -0.1238\n..........................................................................................................................................: -0.1234\n...........................................................................................................................................: -0.1230\n.....................................................................................................................................: -0.1226\n............................................................................................................................................: -0.1221\n",
          "output_type": "stream"
        }
      ],
      "execution_count": null
    },
    {
      "cell_type": "code",
      "source": [],
      "metadata": {
        "trusted": true,
        "id": "RTvgJclvcdQT"
      },
      "outputs": [],
      "execution_count": null
    }
  ]
}